{
 "cells": [
  {
   "cell_type": "code",
   "execution_count": 105,
   "metadata": {
    "collapsed": true
   },
   "outputs": [],
   "source": [
    "import numpy as np\n",
    "import pandas as pd"
   ]
  },
  {
   "cell_type": "code",
   "execution_count": 106,
   "outputs": [
    {
     "data": {
      "text/plain": "        one       two     three      four\na -0.312618 -1.090169 -0.676065 -0.213560\nb -2.122499  0.518743  0.492491 -0.030923\nc -1.301169  2.504567  1.452744 -1.621923\nd -0.612866  0.325074 -0.468087 -0.169261\ne  1.318520  0.998487 -1.303492 -0.509943\nf  0.186845  0.097003 -1.728154  0.742631\ng  0.505597  0.721049  0.690313 -2.381693\nh -1.639589  1.082463 -0.194185  1.451886\ni  0.069685  0.503993 -0.288951  0.157845\nj -0.960602 -0.947948  0.141347 -1.370988",
      "text/html": "<div>\n<style scoped>\n    .dataframe tbody tr th:only-of-type {\n        vertical-align: middle;\n    }\n\n    .dataframe tbody tr th {\n        vertical-align: top;\n    }\n\n    .dataframe thead th {\n        text-align: right;\n    }\n</style>\n<table border=\"1\" class=\"dataframe\">\n  <thead>\n    <tr style=\"text-align: right;\">\n      <th></th>\n      <th>one</th>\n      <th>two</th>\n      <th>three</th>\n      <th>four</th>\n    </tr>\n  </thead>\n  <tbody>\n    <tr>\n      <th>a</th>\n      <td>-0.312618</td>\n      <td>-1.090169</td>\n      <td>-0.676065</td>\n      <td>-0.213560</td>\n    </tr>\n    <tr>\n      <th>b</th>\n      <td>-2.122499</td>\n      <td>0.518743</td>\n      <td>0.492491</td>\n      <td>-0.030923</td>\n    </tr>\n    <tr>\n      <th>c</th>\n      <td>-1.301169</td>\n      <td>2.504567</td>\n      <td>1.452744</td>\n      <td>-1.621923</td>\n    </tr>\n    <tr>\n      <th>d</th>\n      <td>-0.612866</td>\n      <td>0.325074</td>\n      <td>-0.468087</td>\n      <td>-0.169261</td>\n    </tr>\n    <tr>\n      <th>e</th>\n      <td>1.318520</td>\n      <td>0.998487</td>\n      <td>-1.303492</td>\n      <td>-0.509943</td>\n    </tr>\n    <tr>\n      <th>f</th>\n      <td>0.186845</td>\n      <td>0.097003</td>\n      <td>-1.728154</td>\n      <td>0.742631</td>\n    </tr>\n    <tr>\n      <th>g</th>\n      <td>0.505597</td>\n      <td>0.721049</td>\n      <td>0.690313</td>\n      <td>-2.381693</td>\n    </tr>\n    <tr>\n      <th>h</th>\n      <td>-1.639589</td>\n      <td>1.082463</td>\n      <td>-0.194185</td>\n      <td>1.451886</td>\n    </tr>\n    <tr>\n      <th>i</th>\n      <td>0.069685</td>\n      <td>0.503993</td>\n      <td>-0.288951</td>\n      <td>0.157845</td>\n    </tr>\n    <tr>\n      <th>j</th>\n      <td>-0.960602</td>\n      <td>-0.947948</td>\n      <td>0.141347</td>\n      <td>-1.370988</td>\n    </tr>\n  </tbody>\n</table>\n</div>"
     },
     "execution_count": 106,
     "metadata": {},
     "output_type": "execute_result"
    }
   ],
   "source": [
    "df = pd.DataFrame(np.random.randn(10, 4),\n",
    "                  index=['a', 'b', 'c', 'd', 'e', 'f', 'g', 'h', 'i', 'j'],\n",
    "                  columns=['one', 'two', 'three', 'four'])\n",
    "df"
   ],
   "metadata": {
    "collapsed": false,
    "pycharm": {
     "name": "#%%# draw a heatmap\n"
    }
   }
  }
 ],
 "metadata": {
  "kernelspec": {
   "display_name": "Python 3",
   "language": "python",
   "name": "python3"
  },
  "language_info": {
   "codemirror_mode": {
    "name": "ipython",
    "version": 2
   },
   "file_extension": ".py",
   "mimetype": "text/x-python",
   "name": "python",
   "nbconvert_exporter": "python",
   "pygments_lexer": "ipython2",
   "version": "2.7.6"
  }
 },
 "nbformat": 4,
 "nbformat_minor": 0
}