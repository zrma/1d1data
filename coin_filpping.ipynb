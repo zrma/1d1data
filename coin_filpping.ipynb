{
 "cells": [
  {
   "cell_type": "code",
   "execution_count": null,
   "metadata": {
    "collapsed": true
   },
   "outputs": [],
   "source": [
    "import matplotlib.pyplot as plt\n",
    "from typing import List\n",
    "from random import randint\n",
    "from collections import defaultdict"
   ]
  },
  {
   "cell_type": "code",
   "execution_count": null,
   "outputs": [],
   "source": [
    "def flip_coins(money: int, times: int) -> (int, List[int]):\n",
    "    lst = []\n",
    "    for i in range(0, times):\n",
    "        if randint(0, 1) == 0:\n",
    "            money *= 1.5\n",
    "        else:\n",
    "            money *= 0.6\n",
    "        lst.append(money)\n",
    "    return money, lst"
   ],
   "metadata": {
    "collapsed": false,
    "pycharm": {
     "name": "#%%# draw a heatmap\n",
     "is_executing": true
    }
   }
  },
  {
   "cell_type": "code",
   "execution_count": null,
   "outputs": [],
   "source": [
    "dct = defaultdict(int)\n",
    "y = []\n",
    "for _ in range(0, 10000):\n",
    "    (res, _) = flip_coins(100, 100)\n",
    "    # print(avg)\n",
    "    y.append(res)\n",
    "    dct[int(res)] += 1\n",
    "x = list(range(0, 10000))\n",
    "plt.plot(x, y)\n",
    "plt.show()\n",
    "print(dct)\n",
    "\n",
    "x = [x for x in sorted(dct.keys()) if x < 1000]\n",
    "y = [dct[x] for x in x]\n",
    "plt.plot(x, y)\n",
    "plt.show()"
   ],
   "metadata": {
    "collapsed": false,
    "pycharm": {
     "name": "#%%\n"
    }
   }
  }
 ],
 "metadata": {
  "kernelspec": {
   "display_name": "Python 3",
   "language": "python",
   "name": "python3"
  },
  "language_info": {
   "codemirror_mode": {
    "name": "ipython",
    "version": 2
   },
   "file_extension": ".py",
   "mimetype": "text/x-python",
   "name": "python",
   "nbconvert_exporter": "python",
   "pygments_lexer": "ipython2",
   "version": "2.7.6"
  }
 },
 "nbformat": 4,
 "nbformat_minor": 0
}